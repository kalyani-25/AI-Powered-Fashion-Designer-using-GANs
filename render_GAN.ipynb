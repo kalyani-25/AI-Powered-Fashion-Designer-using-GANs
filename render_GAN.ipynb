{
 "cells": [
  {
   "cell_type": "code",
   "execution_count": 14,
   "metadata": {},
   "outputs": [
    {
     "name": "stdout",
     "output_type": "stream",
     "text": [
      "Defaulting to user installation because normal site-packages is not writeable\n",
      "Requirement already satisfied: matplotlib in /Users/kalyanivaidya/Library/Python/3.9/lib/python/site-packages (3.9.4)\n",
      "Requirement already satisfied: packaging>=20.0 in /Users/kalyanivaidya/Library/Python/3.9/lib/python/site-packages (from matplotlib) (25.0)\n",
      "Requirement already satisfied: importlib-resources>=3.2.0 in /Users/kalyanivaidya/Library/Python/3.9/lib/python/site-packages (from matplotlib) (6.5.2)\n",
      "Requirement already satisfied: python-dateutil>=2.7 in /Users/kalyanivaidya/Library/Python/3.9/lib/python/site-packages (from matplotlib) (2.9.0.post0)\n",
      "Requirement already satisfied: cycler>=0.10 in /Users/kalyanivaidya/Library/Python/3.9/lib/python/site-packages (from matplotlib) (0.12.1)\n",
      "Requirement already satisfied: fonttools>=4.22.0 in /Users/kalyanivaidya/Library/Python/3.9/lib/python/site-packages (from matplotlib) (4.57.0)\n",
      "Requirement already satisfied: pyparsing>=2.3.1 in /Users/kalyanivaidya/Library/Python/3.9/lib/python/site-packages (from matplotlib) (3.2.3)\n",
      "Requirement already satisfied: pillow>=8 in /Users/kalyanivaidya/Library/Python/3.9/lib/python/site-packages (from matplotlib) (11.2.1)\n",
      "Requirement already satisfied: kiwisolver>=1.3.1 in /Users/kalyanivaidya/Library/Python/3.9/lib/python/site-packages (from matplotlib) (1.4.7)\n",
      "Requirement already satisfied: numpy>=1.23 in /Users/kalyanivaidya/Library/Python/3.9/lib/python/site-packages (from matplotlib) (2.0.2)\n",
      "Requirement already satisfied: contourpy>=1.0.1 in /Users/kalyanivaidya/Library/Python/3.9/lib/python/site-packages (from matplotlib) (1.3.0)\n",
      "Requirement already satisfied: zipp>=3.1.0 in /Users/kalyanivaidya/Library/Python/3.9/lib/python/site-packages (from importlib-resources>=3.2.0->matplotlib) (3.21.0)\n",
      "Requirement already satisfied: six>=1.5 in /Library/Developer/CommandLineTools/Library/Frameworks/Python3.framework/Versions/3.9/lib/python3.9/site-packages (from python-dateutil>=2.7->matplotlib) (1.15.0)\n",
      "\u001b[33mWARNING: You are using pip version 21.2.4; however, version 25.1.1 is available.\n",
      "You should consider upgrading via the '/Library/Developer/CommandLineTools/usr/bin/python3 -m pip install --upgrade pip' command.\u001b[0m\n",
      "Note: you may need to restart the kernel to use updated packages.\n"
     ]
    }
   ],
   "source": [
    "pip install matplotlib\n"
   ]
  },
  {
   "cell_type": "code",
   "execution_count": 15,
   "metadata": {},
   "outputs": [],
   "source": [
    "import matplotlib.pyplot as plt\n"
   ]
  },
  {
   "cell_type": "code",
   "execution_count": 19,
   "metadata": {},
   "outputs": [
    {
     "name": "stdout",
     "output_type": "stream",
     "text": [
      "Defaulting to user installation because normal site-packages is not writeable\n",
      "Collecting tensorflow-macos\n",
      "  Downloading tensorflow_macos-2.16.2-cp39-cp39-macosx_12_0_arm64.whl (2.1 kB)\n",
      "Collecting tensorflow==2.16.2\n",
      "  Downloading tensorflow-2.16.2-cp39-cp39-macosx_12_0_arm64.whl (227.0 MB)\n",
      "\u001b[K     |████████████████████████████████| 227.0 MB 3.0 MB/s eta 0:00:01    |████████▉                       | 62.8 MB 2.4 MB/s eta 0:01:08     |██████████▏                     | 72.1 MB 3.2 MB/s eta 0:00:49     |█████████████████▊              | 125.5 MB 2.8 MB/s eta 0:00:36     |████████████████████████        | 170.0 MB 2.3 MB/s eta 0:00:25     |█████████████████████████████▋  | 210.1 MB 2.3 MB/s eta 0:00:08\n",
      "\u001b[?25hCollecting gast!=0.5.0,!=0.5.1,!=0.5.2,>=0.2.1\n",
      "  Downloading gast-0.6.0-py3-none-any.whl (21 kB)\n",
      "Collecting requests<3,>=2.21.0\n",
      "  Downloading requests-2.32.3-py3-none-any.whl (64 kB)\n",
      "\u001b[K     |████████████████████████████████| 64 kB 2.7 MB/s eta 0:00:01\n",
      "\u001b[?25hCollecting protobuf!=4.21.0,!=4.21.1,!=4.21.2,!=4.21.3,!=4.21.4,!=4.21.5,<5.0.0dev,>=3.20.3\n",
      "  Downloading protobuf-4.25.7-cp37-abi3-macosx_10_9_universal2.whl (394 kB)\n",
      "\u001b[K     |████████████████████████████████| 394 kB 2.7 MB/s eta 0:00:01\n",
      "\u001b[?25hCollecting termcolor>=1.1.0\n",
      "  Downloading termcolor-3.1.0-py3-none-any.whl (7.7 kB)\n",
      "Collecting flatbuffers>=23.5.26\n",
      "  Downloading flatbuffers-25.2.10-py2.py3-none-any.whl (30 kB)\n",
      "Collecting h5py>=3.10.0\n",
      "  Downloading h5py-3.13.0-cp39-cp39-macosx_11_0_arm64.whl (2.9 MB)\n",
      "\u001b[K     |████████████████████████████████| 2.9 MB 2.8 MB/s eta 0:00:01\n",
      "\u001b[?25hCollecting tensorflow-io-gcs-filesystem>=0.23.1\n",
      "  Downloading tensorflow_io_gcs_filesystem-0.37.1-cp39-cp39-macosx_12_0_arm64.whl (3.5 MB)\n",
      "\u001b[K     |████████████████████████████████| 3.5 MB 2.2 MB/s eta 0:00:01\n",
      "\u001b[?25hCollecting absl-py>=1.0.0\n",
      "  Downloading absl_py-2.2.2-py3-none-any.whl (135 kB)\n",
      "\u001b[K     |████████████████████████████████| 135 kB 1.4 MB/s eta 0:00:01\n",
      "\u001b[?25hRequirement already satisfied: six>=1.12.0 in /Library/Developer/CommandLineTools/Library/Frameworks/Python3.framework/Versions/3.9/lib/python3.9/site-packages (from tensorflow==2.16.2->tensorflow-macos) (1.15.0)\n",
      "Collecting google-pasta>=0.1.1\n",
      "  Downloading google_pasta-0.2.0-py3-none-any.whl (57 kB)\n",
      "\u001b[K     |████████████████████████████████| 57 kB 1.5 MB/s eta 0:00:01\n",
      "\u001b[?25hCollecting keras>=3.0.0\n",
      "  Downloading keras-3.9.2-py3-none-any.whl (1.3 MB)\n",
      "\u001b[K     |████████████████████████████████| 1.3 MB 1.7 MB/s eta 0:00:01\n",
      "\u001b[?25hCollecting libclang>=13.0.0\n",
      "  Downloading libclang-18.1.1-1-py2.py3-none-macosx_11_0_arm64.whl (25.8 MB)\n",
      "\u001b[K     |████████████████████████████████| 25.8 MB 2.9 MB/s eta 0:00:01\n",
      "\u001b[?25hCollecting tensorboard<2.17,>=2.16\n",
      "  Downloading tensorboard-2.16.2-py3-none-any.whl (5.5 MB)\n",
      "\u001b[K     |████████████████████████████████| 5.5 MB 3.5 MB/s eta 0:00:01     |███▊                            | 645 kB 2.3 MB/s eta 0:00:03\n",
      "\u001b[?25hCollecting grpcio<2.0,>=1.24.3\n",
      "  Downloading grpcio-1.71.0-cp39-cp39-macosx_10_14_universal2.whl (11.3 MB)\n",
      "\u001b[K     |████████████████████████████████| 11.3 MB 2.2 MB/s eta 0:00:01\n",
      "\u001b[?25hRequirement already satisfied: typing-extensions>=3.6.6 in /Users/kalyanivaidya/Library/Python/3.9/lib/python/site-packages (from tensorflow==2.16.2->tensorflow-macos) (4.12.2)\n",
      "Collecting opt-einsum>=2.3.2\n",
      "  Downloading opt_einsum-3.4.0-py3-none-any.whl (71 kB)\n",
      "\u001b[K     |████████████████████████████████| 71 kB 1.4 MB/s eta 0:00:01\n",
      "\u001b[?25hRequirement already satisfied: setuptools in /Library/Developer/CommandLineTools/Library/Frameworks/Python3.framework/Versions/3.9/lib/python3.9/site-packages (from tensorflow==2.16.2->tensorflow-macos) (58.0.4)\n",
      "Collecting ml-dtypes~=0.3.1\n",
      "  Downloading ml_dtypes-0.3.2-cp39-cp39-macosx_10_9_universal2.whl (389 kB)\n",
      "\u001b[K     |████████████████████████████████| 389 kB 3.6 MB/s eta 0:00:01\n",
      "\u001b[?25hCollecting numpy<2.0.0,>=1.23.5\n",
      "  Downloading numpy-1.26.4-cp39-cp39-macosx_11_0_arm64.whl (14.0 MB)\n",
      "\u001b[K     |████████████████████████████████| 14.0 MB 3.1 MB/s eta 0:00:01\n",
      "\u001b[?25hCollecting astunparse>=1.6.0\n",
      "  Downloading astunparse-1.6.3-py2.py3-none-any.whl (12 kB)\n",
      "Requirement already satisfied: packaging in /Users/kalyanivaidya/Library/Python/3.9/lib/python/site-packages (from tensorflow==2.16.2->tensorflow-macos) (25.0)\n",
      "Collecting wrapt>=1.11.0\n",
      "  Downloading wrapt-1.17.2-cp39-cp39-macosx_11_0_arm64.whl (38 kB)\n",
      "Requirement already satisfied: wheel<1.0,>=0.23.0 in /Library/Developer/CommandLineTools/Library/Frameworks/Python3.framework/Versions/3.9/lib/python3.9/site-packages (from astunparse>=1.6.0->tensorflow==2.16.2->tensorflow-macos) (0.37.0)\n",
      "Collecting rich\n",
      "  Downloading rich-14.0.0-py3-none-any.whl (243 kB)\n",
      "\u001b[K     |████████████████████████████████| 243 kB 3.3 MB/s eta 0:00:01\n",
      "\u001b[?25hCollecting optree\n",
      "  Downloading optree-0.15.0-cp39-cp39-macosx_11_0_arm64.whl (329 kB)\n",
      "\u001b[K     |████████████████████████████████| 329 kB 2.9 MB/s eta 0:00:01\n",
      "\u001b[?25hCollecting namex\n",
      "  Downloading namex-0.0.9-py3-none-any.whl (5.8 kB)\n",
      "Collecting certifi>=2017.4.17\n",
      "  Downloading certifi-2025.4.26-py3-none-any.whl (159 kB)\n",
      "\u001b[K     |████████████████████████████████| 159 kB 3.3 MB/s eta 0:00:01\n",
      "\u001b[?25hCollecting charset-normalizer<4,>=2\n",
      "  Downloading charset_normalizer-3.4.2-cp39-cp39-macosx_10_9_universal2.whl (201 kB)\n",
      "\u001b[K     |████████████████████████████████| 201 kB 3.0 MB/s eta 0:00:01\n",
      "\u001b[?25hCollecting urllib3<3,>=1.21.1\n",
      "  Downloading urllib3-2.4.0-py3-none-any.whl (128 kB)\n",
      "\u001b[K     |████████████████████████████████| 128 kB 2.7 MB/s eta 0:00:01\n",
      "\u001b[?25hCollecting idna<4,>=2.5\n",
      "  Downloading idna-3.10-py3-none-any.whl (70 kB)\n",
      "\u001b[K     |████████████████████████████████| 70 kB 3.0 MB/s eta 0:00:01\n",
      "\u001b[?25hRequirement already satisfied: werkzeug>=1.0.1 in /Users/kalyanivaidya/Library/Python/3.9/lib/python/site-packages (from tensorboard<2.17,>=2.16->tensorflow==2.16.2->tensorflow-macos) (3.1.3)\n",
      "Collecting markdown>=2.6.8\n",
      "  Downloading markdown-3.8-py3-none-any.whl (106 kB)\n",
      "\u001b[K     |████████████████████████████████| 106 kB 2.3 MB/s eta 0:00:01\n",
      "\u001b[?25hCollecting tensorboard-data-server<0.8.0,>=0.7.0\n",
      "  Downloading tensorboard_data_server-0.7.2-py3-none-any.whl (2.4 kB)\n",
      "Requirement already satisfied: importlib-metadata>=4.4 in /Users/kalyanivaidya/Library/Python/3.9/lib/python/site-packages (from markdown>=2.6.8->tensorboard<2.17,>=2.16->tensorflow==2.16.2->tensorflow-macos) (8.6.1)\n",
      "Requirement already satisfied: zipp>=3.20 in /Users/kalyanivaidya/Library/Python/3.9/lib/python/site-packages (from importlib-metadata>=4.4->markdown>=2.6.8->tensorboard<2.17,>=2.16->tensorflow==2.16.2->tensorflow-macos) (3.21.0)\n",
      "Requirement already satisfied: MarkupSafe>=2.1.1 in /Users/kalyanivaidya/Library/Python/3.9/lib/python/site-packages (from werkzeug>=1.0.1->tensorboard<2.17,>=2.16->tensorflow==2.16.2->tensorflow-macos) (3.0.2)\n",
      "Requirement already satisfied: pygments<3.0.0,>=2.13.0 in /Users/kalyanivaidya/Library/Python/3.9/lib/python/site-packages (from rich->keras>=3.0.0->tensorflow==2.16.2->tensorflow-macos) (2.19.1)\n",
      "Collecting markdown-it-py>=2.2.0\n",
      "  Downloading markdown_it_py-3.0.0-py3-none-any.whl (87 kB)\n",
      "\u001b[K     |████████████████████████████████| 87 kB 1.6 MB/s eta 0:00:01\n",
      "\u001b[?25hCollecting mdurl~=0.1\n",
      "  Downloading mdurl-0.1.2-py3-none-any.whl (10.0 kB)\n",
      "Installing collected packages: mdurl, numpy, markdown-it-py, urllib3, tensorboard-data-server, rich, protobuf, optree, namex, ml-dtypes, markdown, idna, h5py, grpcio, charset-normalizer, certifi, absl-py, wrapt, termcolor, tensorflow-io-gcs-filesystem, tensorboard, requests, opt-einsum, libclang, keras, google-pasta, gast, flatbuffers, astunparse, tensorflow, tensorflow-macos\n",
      "  Attempting uninstall: numpy\n",
      "    Found existing installation: numpy 2.0.2\n",
      "    Uninstalling numpy-2.0.2:\n",
      "      Successfully uninstalled numpy-2.0.2\n",
      "Successfully installed absl-py-2.2.2 astunparse-1.6.3 certifi-2025.4.26 charset-normalizer-3.4.2 flatbuffers-25.2.10 gast-0.6.0 google-pasta-0.2.0 grpcio-1.71.0 h5py-3.13.0 idna-3.10 keras-3.9.2 libclang-18.1.1 markdown-3.8 markdown-it-py-3.0.0 mdurl-0.1.2 ml-dtypes-0.3.2 namex-0.0.9 numpy-1.26.4 opt-einsum-3.4.0 optree-0.15.0 protobuf-4.25.7 requests-2.32.3 rich-14.0.0 tensorboard-2.16.2 tensorboard-data-server-0.7.2 tensorflow-2.16.2 tensorflow-io-gcs-filesystem-0.37.1 tensorflow-macos-2.16.2 termcolor-3.1.0 urllib3-2.4.0 wrapt-1.17.2\n",
      "\u001b[33mWARNING: You are using pip version 21.2.4; however, version 25.1.1 is available.\n",
      "You should consider upgrading via the '/Library/Developer/CommandLineTools/usr/bin/python3 -m pip install --upgrade pip' command.\u001b[0m\n",
      "Note: you may need to restart the kernel to use updated packages.\n"
     ]
    }
   ],
   "source": [
    "pip install tensorflow-macos\n"
   ]
  },
  {
   "cell_type": "code",
   "execution_count": 21,
   "metadata": {},
   "outputs": [
    {
     "name": "stdout",
     "output_type": "stream",
     "text": [
      "Requirement already satisfied: numpy==1.26.4 in /opt/anaconda3/lib/python3.12/site-packages (1.26.4)\n"
     ]
    }
   ],
   "source": [
    "!pip install numpy==1.26.4\n"
   ]
  },
  {
   "cell_type": "code",
   "execution_count": null,
   "metadata": {},
   "outputs": [
    {
     "name": "stderr",
     "output_type": "stream",
     "text": [
      "/Users/kalyanivaidya/Library/Python/3.9/lib/python/site-packages/urllib3/__init__.py:35: NotOpenSSLWarning: urllib3 v2 only supports OpenSSL 1.1.1+, currently the 'ssl' module is compiled with 'LibreSSL 2.8.3'. See: https://github.com/urllib3/urllib3/issues/3020\n",
      "  warnings.warn(\n"
     ]
    },
    {
     "name": "stdout",
     "output_type": "stream",
     "text": [
      "\n",
      "[Epoch 1/20]\n",
      "  Step 0/156 | G=17.77 | D=0.81\n",
      "  Step 50/156 | G=14.96 | D=0.24\n",
      "  Step 100/156 | G=15.00 | D=0.17\n",
      "  Step 150/156 | G=14.83 | D=0.17\n"
     ]
    },
    {
     "name": "stderr",
     "output_type": "stream",
     "text": [
      "2025-05-07 15:49:14.655028: W tensorflow/core/framework/local_rendezvous.cc:404] Local rendezvous is aborting with status: OUT_OF_RANGE: End of sequence\n"
     ]
    },
    {
     "name": "stdout",
     "output_type": "stream",
     "text": [
      " → G avg: 15.07 | D avg: 0.27\n",
      "\n",
      "[Epoch 2/20]\n",
      "  Step 0/156 | G=15.40 | D=0.10\n",
      "  Step 50/156 | G=15.13 | D=0.20\n",
      "  Step 100/156 | G=13.94 | D=0.13\n",
      "  Step 150/156 | G=14.19 | D=0.18\n"
     ]
    },
    {
     "name": "stderr",
     "output_type": "stream",
     "text": [
      "2025-05-07 16:04:30.732763: W tensorflow/core/framework/local_rendezvous.cc:404] Local rendezvous is aborting with status: OUT_OF_RANGE: End of sequence\n"
     ]
    },
    {
     "name": "stdout",
     "output_type": "stream",
     "text": [
      " → G avg: 13.99 | D avg: 0.20\n",
      "\n",
      "[Epoch 3/20]\n",
      "  Step 0/156 | G=12.97 | D=0.19\n",
      "  Step 50/156 | G=13.44 | D=0.16\n",
      "  Step 100/156 | G=14.25 | D=0.13\n",
      "  Step 150/156 | G=15.49 | D=0.15\n"
     ]
    },
    {
     "name": "stderr",
     "output_type": "stream",
     "text": [
      "2025-05-07 16:34:07.399863: W tensorflow/core/framework/local_rendezvous.cc:404] Local rendezvous is aborting with status: OUT_OF_RANGE: End of sequence\n"
     ]
    },
    {
     "name": "stdout",
     "output_type": "stream",
     "text": [
      " → G avg: 13.96 | D avg: 0.18\n",
      "\n",
      "[Epoch 4/20]\n",
      "  Step 0/156 | G=12.55 | D=0.12\n",
      "  Step 50/156 | G=14.09 | D=0.10\n",
      "  Step 100/156 | G=14.16 | D=0.20\n",
      "  Step 150/156 | G=13.67 | D=0.15\n"
     ]
    },
    {
     "name": "stderr",
     "output_type": "stream",
     "text": [
      "2025-05-07 17:18:13.841404: W tensorflow/core/framework/local_rendezvous.cc:404] Local rendezvous is aborting with status: OUT_OF_RANGE: End of sequence\n"
     ]
    },
    {
     "name": "stdout",
     "output_type": "stream",
     "text": [
      " → G avg: 13.85 | D avg: 0.16\n",
      "\n",
      "[Epoch 5/20]\n",
      "  Step 0/156 | G=14.73 | D=0.20\n",
      "  Step 50/156 | G=13.90 | D=0.17\n",
      "  Step 100/156 | G=14.48 | D=0.11\n",
      "  Step 150/156 | G=13.55 | D=0.15\n"
     ]
    },
    {
     "name": "stderr",
     "output_type": "stream",
     "text": [
      "2025-05-07 17:32:21.598807: W tensorflow/core/framework/local_rendezvous.cc:404] Local rendezvous is aborting with status: OUT_OF_RANGE: End of sequence\n"
     ]
    },
    {
     "name": "stdout",
     "output_type": "stream",
     "text": [
      " → G avg: 13.79 | D avg: 0.17\n",
      "\n",
      "[Epoch 6/20]\n",
      "  Step 0/156 | G=13.54 | D=0.17\n",
      "  Step 50/156 | G=14.24 | D=0.12\n",
      "  Step 100/156 | G=13.44 | D=0.19\n",
      "  Step 150/156 | G=13.46 | D=0.18\n"
     ]
    },
    {
     "name": "stderr",
     "output_type": "stream",
     "text": [
      "2025-05-07 17:47:02.603440: W tensorflow/core/framework/local_rendezvous.cc:404] Local rendezvous is aborting with status: OUT_OF_RANGE: End of sequence\n"
     ]
    },
    {
     "name": "stdout",
     "output_type": "stream",
     "text": [
      " → G avg: 13.63 | D avg: 0.16\n",
      "\n",
      "[Epoch 7/20]\n",
      "  Step 0/156 | G=13.59 | D=0.17\n",
      "  Step 50/156 | G=14.42 | D=0.10\n",
      "  Step 100/156 | G=12.68 | D=0.20\n",
      "  Step 150/156 | G=13.63 | D=0.18\n"
     ]
    },
    {
     "name": "stderr",
     "output_type": "stream",
     "text": [
      "2025-05-07 18:01:47.456783: W tensorflow/core/framework/local_rendezvous.cc:404] Local rendezvous is aborting with status: OUT_OF_RANGE: End of sequence\n"
     ]
    },
    {
     "name": "stdout",
     "output_type": "stream",
     "text": [
      " → G avg: 13.55 | D avg: 0.15\n",
      "\n",
      "[Epoch 8/20]\n",
      "  Step 0/156 | G=12.72 | D=0.14\n",
      "  Step 50/156 | G=13.78 | D=0.19\n",
      "  Step 100/156 | G=14.13 | D=0.20\n",
      "  Step 150/156 | G=14.06 | D=0.17\n"
     ]
    },
    {
     "name": "stderr",
     "output_type": "stream",
     "text": [
      "2025-05-07 18:16:31.703311: W tensorflow/core/framework/local_rendezvous.cc:404] Local rendezvous is aborting with status: OUT_OF_RANGE: End of sequence\n"
     ]
    },
    {
     "name": "stdout",
     "output_type": "stream",
     "text": [
      " → G avg: 13.57 | D avg: 0.17\n",
      "\n",
      "[Epoch 9/20]\n",
      "  Step 0/156 | G=13.37 | D=0.09\n",
      "  Step 50/156 | G=12.38 | D=0.29\n",
      "  Step 100/156 | G=13.05 | D=0.23\n",
      "  Step 150/156 | G=14.32 | D=0.17\n"
     ]
    },
    {
     "name": "stderr",
     "output_type": "stream",
     "text": [
      "2025-05-07 18:31:21.774039: W tensorflow/core/framework/local_rendezvous.cc:404] Local rendezvous is aborting with status: OUT_OF_RANGE: End of sequence\n"
     ]
    },
    {
     "name": "stdout",
     "output_type": "stream",
     "text": [
      " → G avg: 13.48 | D avg: 0.17\n",
      "\n",
      "[Epoch 10/20]\n",
      "  Step 0/156 | G=13.47 | D=0.16\n",
      "  Step 50/156 | G=13.98 | D=0.10\n",
      "  Step 100/156 | G=14.23 | D=0.18\n",
      "  Step 150/156 | G=13.95 | D=0.24\n"
     ]
    },
    {
     "name": "stderr",
     "output_type": "stream",
     "text": [
      "2025-05-07 18:47:01.945035: W tensorflow/core/framework/local_rendezvous.cc:404] Local rendezvous is aborting with status: OUT_OF_RANGE: End of sequence\n"
     ]
    },
    {
     "name": "stdout",
     "output_type": "stream",
     "text": [
      " → G avg: 13.48 | D avg: 0.16\n",
      "\n",
      "[Epoch 11/20]\n",
      "  Step 0/156 | G=13.33 | D=0.28\n",
      "  Step 50/156 | G=13.66 | D=0.16\n",
      "  Step 100/156 | G=13.75 | D=0.18\n",
      "  Step 150/156 | G=14.30 | D=0.16\n"
     ]
    },
    {
     "name": "stderr",
     "output_type": "stream",
     "text": [
      "2025-05-07 19:01:43.296164: W tensorflow/core/framework/local_rendezvous.cc:404] Local rendezvous is aborting with status: OUT_OF_RANGE: End of sequence\n"
     ]
    },
    {
     "name": "stdout",
     "output_type": "stream",
     "text": [
      " → G avg: 13.56 | D avg: 0.16\n",
      "\n",
      "[Epoch 12/20]\n",
      "  Step 0/156 | G=15.27 | D=0.22\n",
      "  Step 50/156 | G=15.75 | D=0.13\n",
      "  Step 100/156 | G=13.70 | D=0.13\n",
      "  Step 150/156 | G=13.80 | D=0.14\n"
     ]
    },
    {
     "name": "stderr",
     "output_type": "stream",
     "text": [
      "2025-05-07 19:16:00.743752: W tensorflow/core/framework/local_rendezvous.cc:404] Local rendezvous is aborting with status: OUT_OF_RANGE: End of sequence\n"
     ]
    },
    {
     "name": "stdout",
     "output_type": "stream",
     "text": [
      " → G avg: 13.95 | D avg: 0.16\n",
      "\n",
      "[Epoch 13/20]\n",
      "  Step 0/156 | G=14.04 | D=0.12\n",
      "  Step 50/156 | G=13.44 | D=0.16\n",
      "  Step 100/156 | G=13.07 | D=0.16\n",
      "  Step 150/156 | G=13.36 | D=0.12\n"
     ]
    },
    {
     "name": "stderr",
     "output_type": "stream",
     "text": [
      "2025-05-07 19:29:48.351088: W tensorflow/core/framework/local_rendezvous.cc:404] Local rendezvous is aborting with status: OUT_OF_RANGE: End of sequence\n"
     ]
    },
    {
     "name": "stdout",
     "output_type": "stream",
     "text": [
      " → G avg: 13.51 | D avg: 0.16\n",
      "\n",
      "[Epoch 14/20]\n",
      "  Step 0/156 | G=13.50 | D=0.24\n",
      "  Step 50/156 | G=14.88 | D=0.22\n",
      "  Step 100/156 | G=13.56 | D=0.18\n",
      "  Step 150/156 | G=13.59 | D=0.14\n"
     ]
    },
    {
     "name": "stderr",
     "output_type": "stream",
     "text": [
      "2025-05-07 19:43:29.176620: W tensorflow/core/framework/local_rendezvous.cc:404] Local rendezvous is aborting with status: OUT_OF_RANGE: End of sequence\n"
     ]
    },
    {
     "name": "stdout",
     "output_type": "stream",
     "text": [
      " → G avg: 13.46 | D avg: 0.17\n",
      "\n",
      "[Epoch 15/20]\n",
      "  Step 0/156 | G=14.16 | D=0.25\n",
      "  Step 50/156 | G=12.59 | D=0.15\n",
      "  Step 100/156 | G=14.36 | D=0.19\n",
      "  Step 150/156 | G=13.93 | D=0.11\n"
     ]
    },
    {
     "name": "stderr",
     "output_type": "stream",
     "text": [
      "2025-05-07 19:57:03.465875: W tensorflow/core/framework/local_rendezvous.cc:404] Local rendezvous is aborting with status: OUT_OF_RANGE: End of sequence\n"
     ]
    },
    {
     "name": "stdout",
     "output_type": "stream",
     "text": [
      " → G avg: 13.47 | D avg: 0.17\n",
      "\n",
      "[Epoch 16/20]\n",
      "  Step 0/156 | G=13.71 | D=0.15\n",
      "  Step 50/156 | G=14.10 | D=0.10\n",
      "  Step 100/156 | G=12.38 | D=0.38\n",
      "  Step 150/156 | G=12.96 | D=0.18\n"
     ]
    },
    {
     "name": "stderr",
     "output_type": "stream",
     "text": [
      "2025-05-07 21:11:18.454950: W tensorflow/core/framework/local_rendezvous.cc:404] Local rendezvous is aborting with status: OUT_OF_RANGE: End of sequence\n"
     ]
    },
    {
     "name": "stdout",
     "output_type": "stream",
     "text": [
      " → G avg: 13.39 | D avg: 0.17\n",
      "\n",
      "[Epoch 17/20]\n",
      "  Step 0/156 | G=13.65 | D=0.15\n",
      "  Step 50/156 | G=14.03 | D=0.17\n",
      "  Step 100/156 | G=13.31 | D=0.14\n",
      "  Step 150/156 | G=13.91 | D=0.15\n"
     ]
    },
    {
     "name": "stderr",
     "output_type": "stream",
     "text": [
      "2025-05-07 21:25:09.032179: W tensorflow/core/framework/local_rendezvous.cc:404] Local rendezvous is aborting with status: OUT_OF_RANGE: End of sequence\n"
     ]
    },
    {
     "name": "stdout",
     "output_type": "stream",
     "text": [
      " → G avg: 13.39 | D avg: 0.17\n",
      "\n",
      "[Epoch 18/20]\n",
      "  Step 0/156 | G=13.32 | D=0.30\n",
      "  Step 50/156 | G=11.88 | D=0.20\n",
      "  Step 100/156 | G=13.43 | D=0.14\n",
      "  Step 150/156 | G=13.49 | D=0.15\n"
     ]
    },
    {
     "name": "stderr",
     "output_type": "stream",
     "text": [
      "2025-05-07 21:43:50.248569: W tensorflow/core/framework/local_rendezvous.cc:404] Local rendezvous is aborting with status: OUT_OF_RANGE: End of sequence\n"
     ]
    },
    {
     "name": "stdout",
     "output_type": "stream",
     "text": [
      " → G avg: 13.39 | D avg: 0.18\n",
      "\n",
      "[Epoch 19/20]\n",
      "  Step 0/156 | G=13.52 | D=0.19\n",
      "  Step 50/156 | G=13.34 | D=0.28\n",
      "  Step 100/156 | G=13.83 | D=0.21\n",
      "  Step 150/156 | G=14.37 | D=0.23\n"
     ]
    },
    {
     "name": "stderr",
     "output_type": "stream",
     "text": [
      "2025-05-07 22:05:28.555247: W tensorflow/core/framework/local_rendezvous.cc:404] Local rendezvous is aborting with status: OUT_OF_RANGE: End of sequence\n"
     ]
    },
    {
     "name": "stdout",
     "output_type": "stream",
     "text": [
      " → G avg: 13.39 | D avg: 0.18\n",
      "\n",
      "[Epoch 20/20]\n",
      "  Step 0/156 | G=12.68 | D=0.28\n",
      "  Step 50/156 | G=13.60 | D=0.15\n",
      "  Step 100/156 | G=13.81 | D=0.11\n",
      "  Step 150/156 | G=13.69 | D=0.22\n"
     ]
    },
    {
     "name": "stderr",
     "output_type": "stream",
     "text": [
      "2025-05-07 22:19:15.771687: W tensorflow/core/framework/local_rendezvous.cc:404] Local rendezvous is aborting with status: OUT_OF_RANGE: End of sequence\n"
     ]
    },
    {
     "name": "stdout",
     "output_type": "stream",
     "text": [
      " → G avg: 13.32 | D avg: 0.17\n",
      "\n",
      " Training complete in 404.0 minutes. Results saved to /Users/kalyanivaidya/AI Fashion Designer/outputs/render_gan_output\n"
     ]
    },
    {
     "data": {
      "image/png": "[encoded data removed]",
      "text/plain": [
       "<Figure size 640x480 with 1 Axes>"
      ]
     },
     "metadata": {},
     "output_type": "display_data"
    }
   ],
   "source": [
    "\n",
    "# RenderGAN Training Notebook\n",
    "# This notebook trains a GAN that converts grayscale sketches to color fashion images using DeepFashion2-derived data.\n",
    "\n",
    "\n",
    "import os, time, glob, random\n",
    "import numpy as np\n",
    "import matplotlib.pyplot as plt\n",
    "import tensorflow as tf\n",
    "from tensorflow.keras import layers, losses, optimizers, Model\n",
    "from tensorflow.keras.mixed_precision import set_global_policy\n",
    "\n",
    "# Configuration\n",
    "\n",
    "set_global_policy('mixed_float16')\n",
    "IMG_SIZE = 128\n",
    "BATCH_SIZE = 32\n",
    "EPOCHS = 20\n",
    "LAMBDA = 10\n",
    "PAIR_COUNT = 5000\n",
    "SKETCH_DIR = \"/Users/kalyanivaidya/AI Fashion Designer/data/processed_sketches\"\n",
    "COLOR_DIR = \"/Users/kalyanivaidya/AI Fashion Designer/data/processed_originals\"\n",
    "OUT_DIR = \"/Users/kalyanivaidya/AI Fashion Designer/outputs/render_gan_output\"\n",
    "os.makedirs(OUT_DIR, exist_ok=True)\n",
    "\n",
    "\n",
    "# Load and Align Data\n",
    "\n",
    "\n",
    "sketch_paths = sorted(glob.glob(os.path.join(SKETCH_DIR, \"*.jpg\")))\n",
    "color_paths  = sorted(glob.glob(os.path.join(COLOR_DIR,  \"*.jpg\")))\n",
    "assert len(sketch_paths) == len(color_paths), \"Mismatch in data count!\"\n",
    "\n",
    "paired = list(zip(sketch_paths, color_paths))\n",
    "random.seed(42)\n",
    "random.shuffle(paired)\n",
    "paired = paired[:PAIR_COUNT]\n",
    "sketch_paths, color_paths = zip(*paired)\n",
    "\n",
    "\n",
    "def load_pair(s_path, c_path):\n",
    "    s = tf.io.read_file(s_path)\n",
    "    s = tf.image.decode_jpeg(s, channels=1)\n",
    "    s = tf.image.resize(s, [IMG_SIZE, IMG_SIZE])\n",
    "    s = (tf.cast(s, tf.float32) / 127.5) - 1.0\n",
    "\n",
    "    c = tf.io.read_file(c_path)\n",
    "    c = tf.image.decode_jpeg(c, channels=3)\n",
    "    c = tf.image.resize(c, [IMG_SIZE, IMG_SIZE])\n",
    "    c = (tf.cast(c, tf.float32) / 127.5) - 1.0\n",
    "    return s, c\n",
    "\n",
    "\n",
    "dataset = tf.data.Dataset.from_tensor_slices((list(sketch_paths), list(color_paths)))\n",
    "dataset = dataset.map(load_pair, num_parallel_calls=tf.data.AUTOTUNE)\n",
    "dataset = dataset.shuffle(1000).batch(BATCH_SIZE).prefetch(tf.data.AUTOTUNE)\n",
    "steps_per_epoch = len(sketch_paths) // BATCH_SIZE\n",
    "\n",
    "\n",
    "#Model Definitions\n",
    "\n",
    "\n",
    "def residual_block(x, filters):\n",
    "    y = layers.Conv2D(filters, 3, padding='same')(x)\n",
    "    y = layers.LayerNormalization()(y)\n",
    "    y = layers.ReLU()(y)\n",
    "    y = layers.Conv2D(filters, 3, padding='same')(y)\n",
    "    y = layers.LayerNormalization()(y)\n",
    "    return layers.add([x, y])\n",
    "\n",
    "def build_generator():\n",
    "    inp = layers.Input(shape=(IMG_SIZE, IMG_SIZE, 1))\n",
    "    x = layers.Conv2D(64, 7, padding='same')(inp)\n",
    "    x = layers.LayerNormalization()(x)\n",
    "    x = layers.ReLU()(x)\n",
    "\n",
    "    x = layers.Conv2D(128, 4, strides=2, padding='same')(x)\n",
    "    x = layers.LayerNormalization()(x)\n",
    "    x = layers.ReLU()(x)\n",
    "\n",
    "    x = layers.Conv2D(256, 4, strides=2, padding='same')(x)\n",
    "    x = layers.LayerNormalization()(x)\n",
    "    x = layers.ReLU()(x)\n",
    "\n",
    "    for _ in range(4):\n",
    "        x = residual_block(x, 256)\n",
    "\n",
    "    x = layers.Conv2DTranspose(128, 4, strides=2, padding='same')(x)\n",
    "    x = layers.LayerNormalization()(x)\n",
    "    x = layers.ReLU()(x)\n",
    "\n",
    "    x = layers.Conv2DTranspose(64, 4, strides=2, padding='same')(x)\n",
    "    x = layers.LayerNormalization()(x)\n",
    "    x = layers.ReLU()(x)\n",
    "\n",
    "    out = layers.Conv2D(3, 7, padding='same', activation='tanh', dtype='float32')(x)\n",
    "    return Model(inp, out)\n",
    "\n",
    "def build_discriminator():\n",
    "    sketch = layers.Input(shape=(IMG_SIZE, IMG_SIZE, 1))\n",
    "    real   = layers.Input(shape=(IMG_SIZE, IMG_SIZE, 3))\n",
    "    x = layers.Concatenate()([sketch, real])\n",
    "    for f in [64, 128]:\n",
    "        x = layers.Conv2D(f, 4, strides=2, padding='same')(x)\n",
    "        x = layers.LeakyReLU(0.1)(x)\n",
    "        x = layers.Dropout(0.3)(x)\n",
    "    x = layers.Conv2D(1, 4, padding='same')(x)\n",
    "    out = layers.Activation('tanh', dtype='float32')(x)\n",
    "    return Model([sketch, real], out)\n",
    "\n",
    "\n",
    "# Losses & Training Setup\n",
    "\n",
    "\n",
    "loss_fn = losses.MeanSquaredError()\n",
    "\n",
    "def perceptual_l1_loss(g, t):\n",
    "    ssim_loss = 1 - tf.reduce_mean(tf.image.ssim(g, t, max_val=2.0))\n",
    "    l1 = tf.reduce_mean(tf.abs(g - t))\n",
    "    return ssim_loss + l1\n",
    "\n",
    "def generator_loss(d_out, g_out, target):\n",
    "    gan = loss_fn(tf.ones_like(d_out), d_out)\n",
    "    return gan + LAMBDA * perceptual_l1_loss(g_out, target)\n",
    "\n",
    "def discriminator_loss(real, fake):\n",
    "    r = tf.ones_like(real) * tf.random.uniform([], 0.8, 1.0)\n",
    "    f = tf.zeros_like(fake) + tf.random.uniform([], 0.0, 0.2)\n",
    "    return loss_fn(r, real) + loss_fn(f, fake)\n",
    "\n",
    "\n",
    "G = build_generator()\n",
    "D = build_discriminator()\n",
    "optG = optimizers.Adam(2e-4, beta_1=0.5)\n",
    "optD = optimizers.Adam(1e-4, beta_1=0.5)\n",
    "\n",
    "\n",
    "@tf.function\n",
    "def train_step(sk, col, train_d=True):\n",
    "    with tf.GradientTape() as tg, tf.GradientTape() as td:\n",
    "        gen_img = G(sk, training=True)\n",
    "        d_real = D([sk, col], training=True)\n",
    "        d_fake = D([sk, gen_img], training=True)\n",
    "        g_loss = generator_loss(d_fake, gen_img, col)\n",
    "        d_loss = discriminator_loss(d_real, d_fake)\n",
    "\n",
    "    g_grads = tg.gradient(g_loss, G.trainable_variables)\n",
    "    g_grads = [tf.clip_by_value(g, -1, 1) for g in g_grads]\n",
    "    optG.apply_gradients(zip(g_grads, G.trainable_variables))\n",
    "\n",
    "    if train_d:\n",
    "        d_grads = td.gradient(d_loss, D.trainable_variables)\n",
    "        d_grads = [tf.clip_by_value(g, -1, 1) for g in d_grads]\n",
    "        optD.apply_gradients(zip(d_grads, D.trainable_variables))\n",
    "\n",
    "    return g_loss, d_loss, gen_img\n",
    "\n",
    "\n",
    "# Training Loop\n",
    "\n",
    "\n",
    "g_hist, d_hist = [], []\n",
    "start = time.time()\n",
    "\n",
    "for epoch in range(1, EPOCHS + 1):\n",
    "    print(f\"\\n[Epoch {epoch}/{EPOCHS}]\")\n",
    "    g_losses, d_losses = [], []\n",
    "\n",
    "    for step, (sk, col) in enumerate(dataset):\n",
    "        g_loss, d_loss, gen_img = train_step(sk, col, train_d=(step % 2 == 0))\n",
    "        g_losses.append(float(g_loss))\n",
    "        d_losses.append(float(d_loss))\n",
    "\n",
    "        if step % 50 == 0:\n",
    "            print(f\"  Step {step}/{steps_per_epoch} | G={g_loss:.2f} | D={d_loss:.2f}\")\n",
    "\n",
    "    g_avg, d_avg = np.mean(g_losses), np.mean(d_losses)\n",
    "    g_hist.append(g_avg)\n",
    "    d_hist.append(d_avg)\n",
    "    print(f\" → G avg: {g_avg:.2f} | D avg: {d_avg:.2f}\")\n",
    "\n",
    "    preview = tf.concat([((col[0]+1)*127.5), ((gen_img[0]+1)*127.5)], axis=1)\n",
    "    tf.keras.utils.save_img(os.path.join(OUT_DIR, f\"epoch{epoch:02d}_preview.png\"), tf.cast(preview, tf.uint8))\n",
    "\n",
    "\n",
    "# Save Results\n",
    "plt.plot(g_hist, label='G Loss')\n",
    "plt.plot(d_hist, label='D Loss')\n",
    "plt.title(\"Epoch-wise Loss\")\n",
    "plt.legend()\n",
    "plt.savefig(os.path.join(OUT_DIR, \"loss_curve.png\"))\n",
    "\n",
    "G.save_weights(os.path.join(OUT_DIR, \"generator_final.weights.h5\"))\n",
    "print(f\"\\n Training complete in {(time.time() - start)/60:.1f} minutes. Results saved to {OUT_DIR}\")"
   ]
  }
 ],
 "metadata": {
  "kernelspec": {
   "display_name": "Python 3",
   "language": "python",
   "name": "python3"
  },
  "language_info": {
   "codemirror_mode": {
    "name": "ipython",
    "version": 3
   },
   "file_extension": ".py",
   "mimetype": "text/x-python",
   "name": "python",
   "nbconvert_exporter": "python",
   "pygments_lexer": "ipython3",
   "version": "3.9.6"
  }
 },
 "nbformat": 4,
 "nbformat_minor": 2
}
