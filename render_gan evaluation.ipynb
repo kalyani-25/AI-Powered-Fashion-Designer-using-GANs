{
 "cells": [
  {
   "cell_type": "code",
   "execution_count": 3,
   "metadata": {},
   "outputs": [
    {
     "name": "stdout",
     "output_type": "stream",
     "text": [
      "Defaulting to user installation because normal site-packages is not writeable\n",
      "Collecting scikit-learn\n",
      "  Downloading scikit_learn-1.6.1-cp39-cp39-macosx_12_0_arm64.whl (11.1 MB)\n",
      "\u001b[K     |████████████████████████████████| 11.1 MB 7.8 MB/s eta 0:00:01\n",
      "\u001b[?25hCollecting scipy>=1.6.0\n",
      "  Downloading scipy-1.13.1-cp39-cp39-macosx_12_0_arm64.whl (30.3 MB)\n",
      "\u001b[K     |████████████████████████████████| 30.3 MB 342 kB/s eta 0:00:011   |████▉                           | 4.6 MB 9.5 MB/s eta 0:00:03\n",
      "\u001b[?25hCollecting threadpoolctl>=3.1.0\n",
      "  Downloading threadpoolctl-3.6.0-py3-none-any.whl (18 kB)\n",
      "Collecting joblib>=1.2.0\n",
      "  Downloading joblib-1.5.0-py3-none-any.whl (307 kB)\n",
      "\u001b[K     |████████████████████████████████| 307 kB 10.3 MB/s eta 0:00:01\n",
      "\u001b[?25hRequirement already satisfied: numpy>=1.19.5 in /Users/kalyanivaidya/Library/Python/3.9/lib/python/site-packages (from scikit-learn) (1.26.4)\n",
      "Installing collected packages: threadpoolctl, scipy, joblib, scikit-learn\n",
      "Successfully installed joblib-1.5.0 scikit-learn-1.6.1 scipy-1.13.1 threadpoolctl-3.6.0\n",
      "\u001b[33mWARNING: You are using pip version 21.2.4; however, version 25.1.1 is available.\n",
      "You should consider upgrading via the '/Library/Developer/CommandLineTools/usr/bin/python3 -m pip install --upgrade pip' command.\u001b[0m\n",
      "Note: you may need to restart the kernel to use updated packages.\n"
     ]
    }
   ],
   "source": [
    "pip install scikit-learn\n"
   ]
  },
  {
   "cell_type": "code",
   "execution_count": 4,
   "metadata": {},
   "outputs": [],
   "source": [
    "import os\n",
    "import numpy as np\n",
    "import tensorflow as tf\n",
    "from tensorflow.keras import layers, models\n",
    "from tensorflow.keras.preprocessing.image import load_img, img_to_array\n",
    "from sklearn.model_selection import train_test_split\n",
    "from sklearn.metrics import classification_report\n"
   ]
  },
  {
   "cell_type": "markdown",
   "metadata": {},
   "source": [
    "Defines parameters and paths:\n",
    "\n",
    "IMG_SIZE: image dimensions (GAN input/output)\n",
    "\n",
    "NUM_SAMPLES: how many images to evaluate\n",
    "\n",
    "SKETCH_DIR & REAL_COLOR_DIR: where to find input sketches and real color images\n",
    "\n",
    "MODEL_WEIGHTS: trained generator weights to be loaded"
   ]
  },
  {
   "cell_type": "code",
   "execution_count": 6,
   "metadata": {},
   "outputs": [],
   "source": [
    "IMG_SIZE = 128\n",
    "MODEL_PATH = \"/Users/kalyanivaidya/AI Fashion Designer/outputs/render_gan_output/generator_final.weights.h5\"\n"
   ]
  },
  {
   "cell_type": "code",
   "execution_count": 8,
   "metadata": {},
   "outputs": [],
   "source": [
    "def residual_block(x, filters):\n",
    "    y = layers.Conv2D(filters, 3, padding='same')(x)\n",
    "    y = layers.LayerNormalization()(y)\n",
    "    y = layers.ReLU()(y)\n",
    "    y = layers.Conv2D(filters, 3, padding='same')(y)\n",
    "    y = layers.LayerNormalization()(y)\n",
    "    return layers.add([x, y])\n",
    "\n",
    "def build_generator():\n",
    "    inp = layers.Input(shape=(IMG_SIZE, IMG_SIZE, 1))\n",
    "    x = layers.Conv2D(64, 7, padding='same')(inp)\n",
    "    x = layers.LayerNormalization()(x)\n",
    "    x = layers.ReLU()(x)\n",
    "    x = layers.Conv2D(128, 4, strides=2, padding='same')(x)\n",
    "    x = layers.LayerNormalization()(x)\n",
    "    x = layers.ReLU()(x)\n",
    "    x = layers.Conv2D(256, 4, strides=2, padding='same')(x)\n",
    "    x = layers.LayerNormalization()(x)\n",
    "    x = layers.ReLU()(x)\n",
    "    for _ in range(4):\n",
    "        x = residual_block(x, 256)\n",
    "    x = layers.Conv2DTranspose(128, 4, strides=2, padding='same')(x)\n",
    "    x = layers.LayerNormalization()(x)\n",
    "    x = layers.ReLU()(x)\n",
    "    x = layers.Conv2DTranspose(64, 4, strides=2, padding='same')(x)\n",
    "    x = layers.LayerNormalization()(x)\n",
    "    x = layers.ReLU()(x)\n",
    "    out = layers.Conv2D(3, 7, padding='same', activation='tanh', dtype='float32')(x)\n",
    "    return models.Model(inp, out)"
   ]
  },
  {
   "cell_type": "code",
   "execution_count": 9,
   "metadata": {},
   "outputs": [
    {
     "name": "stdout",
     "output_type": "stream",
     "text": [
      " Generator loaded.\n"
     ]
    }
   ],
   "source": [
    "G = build_generator()\n",
    "G.load_weights(MODEL_PATH)\n",
    "print(\" Generator loaded.\")"
   ]
  },
  {
   "cell_type": "code",
   "execution_count": 10,
   "metadata": {},
   "outputs": [],
   "source": [
    "NUM_SAMPLES = 100\n",
    "SKETCH_DIR = \"/Users/kalyanivaidya/AI Fashion Designer/data/processed_sketches\"\n",
    "REAL_DIR = \"/Users/kalyanivaidya/AI Fashion Designer/data/processed_originals\"\n",
    "\n",
    "sketch_paths = sorted(tf.io.gfile.glob(os.path.join(SKETCH_DIR, \"*.jpg\")))[:NUM_SAMPLES]\n",
    "real_paths = sorted(tf.io.gfile.glob(os.path.join(REAL_DIR, \"*.jpg\")))[:NUM_SAMPLES]\n",
    "\n",
    "fake_images, real_images = [], []\n",
    "\n",
    "for s_path in sketch_paths:\n",
    "    sketch = load_img(s_path, color_mode='grayscale', target_size=(IMG_SIZE, IMG_SIZE))\n",
    "    sketch = img_to_array(sketch) / 127.5 - 1.0\n",
    "    sketch = tf.expand_dims(sketch, 0)\n",
    "    gen_img = G(sketch, training=False)[0].numpy()\n",
    "    fake_images.append((np.clip((gen_img + 1) * 127.5, 0, 255)).astype(np.uint8))\n",
    "\n",
    "for r_path in real_paths:\n",
    "    img = load_img(r_path, target_size=(IMG_SIZE, IMG_SIZE))\n",
    "    real_images.append(img_to_array(img).astype(np.uint8))"
   ]
  },
  {
   "cell_type": "code",
   "execution_count": 11,
   "metadata": {},
   "outputs": [
    {
     "name": "stdout",
     "output_type": "stream",
     "text": [
      "Epoch 1/5\n",
      "\u001b[1m10/10\u001b[0m \u001b[32m━━━━━━━━━━━━━━━━━━━━\u001b[0m\u001b[37m\u001b[0m \u001b[1m1s\u001b[0m 57ms/step - accuracy: 0.5899 - loss: 0.6931\n",
      "Epoch 2/5\n",
      "\u001b[1m10/10\u001b[0m \u001b[32m━━━━━━━━━━━━━━━━━━━━\u001b[0m\u001b[37m\u001b[0m \u001b[1m1s\u001b[0m 53ms/step - accuracy: 0.7106 - loss: 0.6743\n",
      "Epoch 3/5\n",
      "\u001b[1m10/10\u001b[0m \u001b[32m━━━━━━━━━━━━━━━━━━━━\u001b[0m\u001b[37m\u001b[0m \u001b[1m1s\u001b[0m 49ms/step - accuracy: 0.7500 - loss: 0.6409\n",
      "Epoch 4/5\n",
      "\u001b[1m10/10\u001b[0m \u001b[32m━━━━━━━━━━━━━━━━━━━━\u001b[0m\u001b[37m\u001b[0m \u001b[1m1s\u001b[0m 51ms/step - accuracy: 0.8504 - loss: 0.5780\n",
      "Epoch 5/5\n",
      "\u001b[1m10/10\u001b[0m \u001b[32m━━━━━━━━━━━━━━━━━━━━\u001b[0m\u001b[37m\u001b[0m \u001b[1m1s\u001b[0m 52ms/step - accuracy: 0.8497 - loss: 0.5199\n"
     ]
    },
    {
     "data": {
      "text/plain": [
       "<keras.src.callbacks.history.History at 0x29b1d6d00>"
      ]
     },
     "execution_count": 11,
     "metadata": {},
     "output_type": "execute_result"
    }
   ],
   "source": [
    "X = np.array(real_images + fake_images) / 255.0\n",
    "y = np.array([1]*len(real_images) + [0]*len(fake_images))\n",
    "\n",
    "X_train, X_test, y_train, y_test = train_test_split(X, y, test_size=0.2, random_state=42)\n",
    "\n",
    "clf = models.Sequential([\n",
    "    layers.Input(shape=(IMG_SIZE, IMG_SIZE, 3)),\n",
    "    layers.Conv2D(32, 3, activation='relu'),\n",
    "    layers.MaxPooling2D(),\n",
    "    layers.Conv2D(64, 3, activation='relu'),\n",
    "    layers.MaxPooling2D(),\n",
    "    layers.GlobalAveragePooling2D(),\n",
    "    layers.Dense(64, activation='relu'),\n",
    "    layers.Dense(1, activation='sigmoid')\n",
    "])\n",
    "clf.compile(optimizer='adam', loss='binary_crossentropy', metrics=['accuracy'])\n",
    "clf.fit(X_train, y_train, epochs=5, batch_size=16, verbose=1)"
   ]
  },
  {
   "cell_type": "code",
   "execution_count": 12,
   "metadata": {},
   "outputs": [
    {
     "name": "stdout",
     "output_type": "stream",
     "text": [
      "\u001b[1m2/2\u001b[0m \u001b[32m━━━━━━━━━━━━━━━━━━━━\u001b[0m\u001b[37m\u001b[0m \u001b[1m0s\u001b[0m 42ms/step \n",
      "\n",
      "Classification Report: RenderGAN Classifier\n",
      "\n",
      "              precision    recall  f1-score   support\n",
      "\n",
      "        Fake       0.73      1.00      0.84        19\n",
      "        Real       1.00      0.67      0.80        21\n",
      "\n",
      "    accuracy                           0.82        40\n",
      "   macro avg       0.87      0.83      0.82        40\n",
      "weighted avg       0.87      0.82      0.82        40\n",
      "\n"
     ]
    }
   ],
   "source": [
    "y_pred = clf.predict(X_test)\n",
    "y_pred = (y_pred > 0.5).astype(int)\n",
    "\n",
    "print(\"\\nClassification Report: RenderGAN Classifier\\n\")\n",
    "print(classification_report(y_test, y_pred, target_names=['Fake', 'Real']))\n"
   ]
  }
 ],
 "metadata": {
  "kernelspec": {
   "display_name": "Python 3",
   "language": "python",
   "name": "python3"
  },
  "language_info": {
   "codemirror_mode": {
    "name": "ipython",
    "version": 3
   },
   "file_extension": ".py",
   "mimetype": "text/x-python",
   "name": "python",
   "nbconvert_exporter": "python",
   "pygments_lexer": "ipython3",
   "version": "3.9.6"
  }
 },
 "nbformat": 4,
 "nbformat_minor": 2
}
